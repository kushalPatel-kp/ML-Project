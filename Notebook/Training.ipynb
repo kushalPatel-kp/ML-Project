{
 "cells": [
  {
   "cell_type": "markdown",
   "id": "471d8b54",
   "metadata": {},
   "source": [
    "Training the Models"
   ]
  },
  {
   "cell_type": "code",
   "execution_count": 65,
   "id": "9290df2f",
   "metadata": {},
   "outputs": [],
   "source": [
    "import pandas as pd\n",
    "import numpy as np\n",
    "import seaborn as sns\n",
    "import matplotlib.pyplot as plt\n",
    "from sklearn.linear_model import LinearRegression, Ridge, Lasso\n",
    "from sklearn.metrics import r2_score, mean_absolute_error, mean_squared_error\n",
    "from sklearn.tree import DecisionTreeRegressor\n",
    "from sklearn.model_selection import RandomizedSearchCV\n",
    "from sklearn.neighbors import KNeighborsRegressor\n",
    "from sklearn.ensemble import RandomForestRegressor,AdaBoostRegressor\n",
    "import warnings\n",
    "warnings.filterwarnings('ignore')"
   ]
  },
  {
   "cell_type": "code",
   "execution_count": 66,
   "id": "0e47ba39",
   "metadata": {},
   "outputs": [
    {
     "data": {
      "text/html": [
       "<div>\n",
       "<style scoped>\n",
       "    .dataframe tbody tr th:only-of-type {\n",
       "        vertical-align: middle;\n",
       "    }\n",
       "\n",
       "    .dataframe tbody tr th {\n",
       "        vertical-align: top;\n",
       "    }\n",
       "\n",
       "    .dataframe thead th {\n",
       "        text-align: right;\n",
       "    }\n",
       "</style>\n",
       "<table border=\"1\" class=\"dataframe\">\n",
       "  <thead>\n",
       "    <tr style=\"text-align: right;\">\n",
       "      <th></th>\n",
       "      <th>gender</th>\n",
       "      <th>race/ethnicity</th>\n",
       "      <th>parental level of education</th>\n",
       "      <th>lunch</th>\n",
       "      <th>test preparation course</th>\n",
       "      <th>math score</th>\n",
       "      <th>reading score</th>\n",
       "      <th>writing score</th>\n",
       "    </tr>\n",
       "  </thead>\n",
       "  <tbody>\n",
       "    <tr>\n",
       "      <th>0</th>\n",
       "      <td>female</td>\n",
       "      <td>group B</td>\n",
       "      <td>bachelor's degree</td>\n",
       "      <td>standard</td>\n",
       "      <td>none</td>\n",
       "      <td>72</td>\n",
       "      <td>72</td>\n",
       "      <td>74</td>\n",
       "    </tr>\n",
       "    <tr>\n",
       "      <th>1</th>\n",
       "      <td>female</td>\n",
       "      <td>group C</td>\n",
       "      <td>some college</td>\n",
       "      <td>standard</td>\n",
       "      <td>completed</td>\n",
       "      <td>69</td>\n",
       "      <td>90</td>\n",
       "      <td>88</td>\n",
       "    </tr>\n",
       "    <tr>\n",
       "      <th>2</th>\n",
       "      <td>female</td>\n",
       "      <td>group B</td>\n",
       "      <td>master's degree</td>\n",
       "      <td>standard</td>\n",
       "      <td>none</td>\n",
       "      <td>90</td>\n",
       "      <td>95</td>\n",
       "      <td>93</td>\n",
       "    </tr>\n",
       "    <tr>\n",
       "      <th>3</th>\n",
       "      <td>male</td>\n",
       "      <td>group A</td>\n",
       "      <td>associate's degree</td>\n",
       "      <td>free/reduced</td>\n",
       "      <td>none</td>\n",
       "      <td>47</td>\n",
       "      <td>57</td>\n",
       "      <td>44</td>\n",
       "    </tr>\n",
       "    <tr>\n",
       "      <th>4</th>\n",
       "      <td>male</td>\n",
       "      <td>group C</td>\n",
       "      <td>some college</td>\n",
       "      <td>standard</td>\n",
       "      <td>none</td>\n",
       "      <td>76</td>\n",
       "      <td>78</td>\n",
       "      <td>75</td>\n",
       "    </tr>\n",
       "  </tbody>\n",
       "</table>\n",
       "</div>"
      ],
      "text/plain": [
       "   gender race/ethnicity parental level of education         lunch  \\\n",
       "0  female        group B           bachelor's degree      standard   \n",
       "1  female        group C                some college      standard   \n",
       "2  female        group B             master's degree      standard   \n",
       "3    male        group A          associate's degree  free/reduced   \n",
       "4    male        group C                some college      standard   \n",
       "\n",
       "  test preparation course  math score  reading score  writing score  \n",
       "0                    none          72             72             74  \n",
       "1               completed          69             90             88  \n",
       "2                    none          90             95             93  \n",
       "3                    none          47             57             44  \n",
       "4                    none          76             78             75  "
      ]
     },
     "execution_count": 66,
     "metadata": {},
     "output_type": "execute_result"
    }
   ],
   "source": [
    "df = pd.read_csv(\"data/StudentsPerformance.csv\")\n",
    "df.head()"
   ]
  },
  {
   "cell_type": "code",
   "execution_count": 67,
   "id": "005b0443",
   "metadata": {},
   "outputs": [],
   "source": [
    "df['total_score'] = df['math score'] +df['reading score'] + df['writing score']"
   ]
  },
  {
   "cell_type": "code",
   "execution_count": 68,
   "id": "0f80973e",
   "metadata": {},
   "outputs": [],
   "source": [
    "X = df.drop(columns=['math score', 'reading score', 'writing score'], axis=1)"
   ]
  },
  {
   "cell_type": "code",
   "execution_count": 69,
   "id": "7d9e410d",
   "metadata": {},
   "outputs": [],
   "source": [
    "y = df['total_score']"
   ]
  },
  {
   "cell_type": "code",
   "execution_count": 70,
   "id": "e65f8ab5",
   "metadata": {},
   "outputs": [
    {
     "data": {
      "text/plain": [
       "((800, 6), (200, 6))"
      ]
     },
     "execution_count": 70,
     "metadata": {},
     "output_type": "execute_result"
    }
   ],
   "source": [
    "from sklearn.model_selection import train_test_split\n",
    "\n",
    "\n",
    "X_train,X_test, y_train,y_test = train_test_split(X,y,test_size=0.2,random_state=42)\n",
    "X_train.shape, X_test.shape"
   ]
  },
  {
   "cell_type": "code",
   "execution_count": null,
   "id": "3acaafec",
   "metadata": {},
   "outputs": [],
   "source": []
  },
  {
   "cell_type": "code",
   "execution_count": 71,
   "id": "4b538e89",
   "metadata": {},
   "outputs": [],
   "source": [
    "num_feature_col = X_train.select_dtypes(exclude=\"object\").columns\n",
    "cat_feature_col = X_train.select_dtypes(include='object').columns"
   ]
  },
  {
   "cell_type": "code",
   "execution_count": 72,
   "id": "d23e1c18",
   "metadata": {},
   "outputs": [],
   "source": [
    "from sklearn.preprocessing import OneHotEncoder, StandardScaler\n",
    "from sklearn.compose import ColumnTransformer\n",
    "\n",
    "cat_feature = OneHotEncoder()\n",
    "num_feature = StandardScaler()\n",
    "\n",
    "process = ColumnTransformer([('OneHotEncoder', cat_feature, cat_feature_col),\n",
    "                             ('StandardScaler', num_feature, num_feature_col)])"
   ]
  },
  {
   "cell_type": "code",
   "execution_count": 73,
   "id": "817aca8d",
   "metadata": {},
   "outputs": [],
   "source": [
    "X_train = process.fit_transform(X_train)\n",
    "X_test = process.transform(X_test)"
   ]
  },
  {
   "cell_type": "code",
   "execution_count": 74,
   "id": "295380cf",
   "metadata": {},
   "outputs": [],
   "source": [
    "def evalute_model(true, y_pred):\n",
    "    mse = mean_squared_error(true, y_pred)\n",
    "    mae = mean_absolute_error(true,y_pred)\n",
    "    r2 = r2_score(true, y_pred)\n",
    "    return mse, mae, r2"
   ]
  },
  {
   "cell_type": "code",
   "execution_count": 75,
   "id": "9aa8334c",
   "metadata": {},
   "outputs": [
    {
     "name": "stdout",
     "output_type": "stream",
     "text": [
      "LinearRegression\n",
      "Model performance for Training set\n",
      "Mean Squared Error: 1.3871330157406272e-27\n",
      "Mean absolute Error: 2.7551294579097884e-14\n",
      "R2 Score: 1.0\n",
      "Model performance for Test set\n",
      "Mean Squared Error: 1.627704037396827e-27\n",
      "Mean absolute Error: 3.0553337637684307e-14\n",
      "R2 Score: 1.0\n",
      "===============================\n",
      "K-nearest\n",
      "Model performance for Training set\n",
      "Mean Squared Error: 145.47295\n",
      "Mean absolute Error: 9.165750000000001\n",
      "R2 Score: 0.9189586029550354\n",
      "Model performance for Test set\n",
      "Mean Squared Error: 227.17000000000004\n",
      "Mean absolute Error: 10.936\n",
      "R2 Score: 0.8822525755596942\n",
      "===============================\n",
      "DecisionTreeRegressor\n",
      "Model performance for Training set\n",
      "Mean Squared Error: 0.0\n",
      "Mean absolute Error: 0.0\n",
      "R2 Score: 1.0\n",
      "Model performance for Test set\n",
      "Mean Squared Error: 4.37\n",
      "Mean absolute Error: 0.23\n",
      "R2 Score: 0.997734928710639\n",
      "===============================\n",
      "Ridge\n",
      "Model performance for Training set\n",
      "Mean Squared Error: 0.0037387331630008348\n",
      "Mean absolute Error: 0.04981351627208531\n",
      "R2 Score: 0.9999979171924491\n",
      "Model performance for Test set\n",
      "Mean Squared Error: 0.00451584103501931\n",
      "Mean absolute Error: 0.052608100743713776\n",
      "R2 Score: 0.9999976593359552\n",
      "===============================\n",
      "Lasso\n",
      "Model performance for Training set\n",
      "Mean Squared Error: 0.9999999999999991\n",
      "Mean absolute Error: 0.8002753770375289\n",
      "R2 Score: 0.999442910884498\n",
      "Model performance for Test set\n",
      "Mean Squared Error: 1.0946966052810303\n",
      "Mean absolute Error: 0.823735463345227\n",
      "R2 Score: 0.9994325936267315\n",
      "===============================\n"
     ]
    },
    {
     "name": "stdout",
     "output_type": "stream",
     "text": [
      "RandomForestRegressor\n",
      "Model performance for Training set\n",
      "Mean Squared Error: 0.09468199999999992\n",
      "Mean absolute Error: 0.05977499999999886\n",
      "R2 Score: 0.999947253688366\n",
      "Model performance for Test set\n",
      "Mean Squared Error: 7.510116499999999\n",
      "Mean absolute Error: 0.3173499999999989\n",
      "R2 Score: 0.9961073342645523\n",
      "===============================\n",
      "Adaboost\n",
      "Model performance for Training set\n",
      "Mean Squared Error: 13.577752561860606\n",
      "Mean absolute Error: 2.933779937203728\n",
      "R2 Score: 0.9924359818348083\n",
      "Model performance for Test set\n",
      "Mean Squared Error: 19.21190244302512\n",
      "Mean absolute Error: 2.9409855690298046\n",
      "R2 Score: 0.9900420300600228\n",
      "===============================\n"
     ]
    }
   ],
   "source": [
    "models = {\n",
    "    \"LinearRegression\": LinearRegression(),\n",
    "    \"K-nearest\": KNeighborsRegressor(),\n",
    "    \"DecisionTreeRegressor\": DecisionTreeRegressor(),\n",
    "    \"Ridge\": Ridge(),\n",
    "    \"Lasso\": Lasso(),\n",
    "    \"RandomForestRegressor\": RandomForestRegressor(),\n",
    "    \"Adaboost\": AdaBoostRegressor()\n",
    "}\n",
    "\n",
    "model_list = []\n",
    "r2_list = []\n",
    "\n",
    "for mod in range(len(list(models))):\n",
    "    model = list(models.values())[mod]\n",
    "    model.fit(X_train, y_train)\n",
    "\n",
    "    y_train_pred = model.predict(X_train)\n",
    "    y_test_pred = model.predict(X_test)\n",
    "\n",
    "    model_train_mse, model_train_mae, model_train_r2 = evalute_model(y_train, y_train_pred)\n",
    "    model_test_mse, model_test_mae, model_test_r2=evalute_model(y_test,y_test_pred)\n",
    "\n",
    "    print(list(models.keys())[mod])\n",
    "    model_list.append(list(models.keys())[mod])\n",
    "\n",
    "    print(\"Model performance for Training set\")\n",
    "    print(\"Mean Squared Error:\", model_train_mse)\n",
    "    print(\"Mean absolute Error:\", model_train_mae)\n",
    "    print(\"R2 Score:\", model_train_r2)\n",
    "\n",
    "    print(\"Model performance for Test set\")\n",
    "    print(\"Mean Squared Error:\", model_test_mse)\n",
    "    print(\"Mean absolute Error:\", model_test_mae)\n",
    "    print(\"R2 Score:\", model_test_r2)\n",
    "    r2_list.append(model_test_r2)\n",
    "    print(\"===============================\")"
   ]
  },
  {
   "cell_type": "code",
   "execution_count": 76,
   "id": "fcd3b356",
   "metadata": {},
   "outputs": [
    {
     "data": {
      "text/html": [
       "<div>\n",
       "<style scoped>\n",
       "    .dataframe tbody tr th:only-of-type {\n",
       "        vertical-align: middle;\n",
       "    }\n",
       "\n",
       "    .dataframe tbody tr th {\n",
       "        vertical-align: top;\n",
       "    }\n",
       "\n",
       "    .dataframe thead th {\n",
       "        text-align: right;\n",
       "    }\n",
       "</style>\n",
       "<table border=\"1\" class=\"dataframe\">\n",
       "  <thead>\n",
       "    <tr style=\"text-align: right;\">\n",
       "      <th></th>\n",
       "      <th>Model name</th>\n",
       "      <th>r2_score</th>\n",
       "    </tr>\n",
       "  </thead>\n",
       "  <tbody>\n",
       "    <tr>\n",
       "      <th>0</th>\n",
       "      <td>LinearRegression</td>\n",
       "      <td>1.000000</td>\n",
       "    </tr>\n",
       "    <tr>\n",
       "      <th>3</th>\n",
       "      <td>Ridge</td>\n",
       "      <td>0.999998</td>\n",
       "    </tr>\n",
       "    <tr>\n",
       "      <th>4</th>\n",
       "      <td>Lasso</td>\n",
       "      <td>0.999433</td>\n",
       "    </tr>\n",
       "    <tr>\n",
       "      <th>2</th>\n",
       "      <td>DecisionTreeRegressor</td>\n",
       "      <td>0.997735</td>\n",
       "    </tr>\n",
       "    <tr>\n",
       "      <th>5</th>\n",
       "      <td>RandomForestRegressor</td>\n",
       "      <td>0.996107</td>\n",
       "    </tr>\n",
       "    <tr>\n",
       "      <th>6</th>\n",
       "      <td>Adaboost</td>\n",
       "      <td>0.990042</td>\n",
       "    </tr>\n",
       "    <tr>\n",
       "      <th>1</th>\n",
       "      <td>K-nearest</td>\n",
       "      <td>0.882253</td>\n",
       "    </tr>\n",
       "  </tbody>\n",
       "</table>\n",
       "</div>"
      ],
      "text/plain": [
       "              Model name  r2_score\n",
       "0       LinearRegression  1.000000\n",
       "3                  Ridge  0.999998\n",
       "4                  Lasso  0.999433\n",
       "2  DecisionTreeRegressor  0.997735\n",
       "5  RandomForestRegressor  0.996107\n",
       "6               Adaboost  0.990042\n",
       "1              K-nearest  0.882253"
      ]
     },
     "execution_count": 76,
     "metadata": {},
     "output_type": "execute_result"
    }
   ],
   "source": [
    "pd.DataFrame(list(zip(model_list, r2_list)), columns=['Model name', 'r2_score']).sort_values(by=['r2_score'], ascending=False)"
   ]
  },
  {
   "cell_type": "code",
   "execution_count": 77,
   "id": "a01181da",
   "metadata": {},
   "outputs": [
    {
     "name": "stdout",
     "output_type": "stream",
     "text": [
      "Accuracy 100.00:\n"
     ]
    }
   ],
   "source": [
    "lin_model = LinearRegression(fit_intercept=True)\n",
    "lin_model = lin_model.fit(X_train, y_train)\n",
    "y_pred = lin_model.predict(X_test)\n",
    "score = r2_score(y_test, y_pred)*100\n",
    "print(\"Accuracy %.2f:\" %score)"
   ]
  },
  {
   "cell_type": "code",
   "execution_count": 78,
   "id": "a816ad10",
   "metadata": {},
   "outputs": [
    {
     "data": {
      "text/plain": [
       "Text(0, 0.5, 'Predicted')"
      ]
     },
     "execution_count": 78,
     "metadata": {},
     "output_type": "execute_result"
    },
    {
     "data": {
      "image/png": "[encoded data removed]",
      "text/plain": [
       "<Figure size 640x480 with 1 Axes>"
      ]
     },
     "metadata": {},
     "output_type": "display_data"
    }
   ],
   "source": [
    "plt.scatter(y_test,y_pred)\n",
    "plt.xlabel(\"Actual\")\n",
    "plt.ylabel(\"Predicted\")"
   ]
  },
  {
   "cell_type": "code",
   "execution_count": 79,
   "id": "8432ccc5",
   "metadata": {},
   "outputs": [
    {
     "data": {
      "text/html": [
       "<div>\n",
       "<style scoped>\n",
       "    .dataframe tbody tr th:only-of-type {\n",
       "        vertical-align: middle;\n",
       "    }\n",
       "\n",
       "    .dataframe tbody tr th {\n",
       "        vertical-align: top;\n",
       "    }\n",
       "\n",
       "    .dataframe thead th {\n",
       "        text-align: right;\n",
       "    }\n",
       "</style>\n",
       "<table border=\"1\" class=\"dataframe\">\n",
       "  <thead>\n",
       "    <tr style=\"text-align: right;\">\n",
       "      <th></th>\n",
       "      <th>Actual value</th>\n",
       "      <th>predicted_value</th>\n",
       "      <th>Difference</th>\n",
       "    </tr>\n",
       "  </thead>\n",
       "  <tbody>\n",
       "    <tr>\n",
       "      <th>521</th>\n",
       "      <td>261</td>\n",
       "      <td>261.0</td>\n",
       "      <td>-5.684342e-14</td>\n",
       "    </tr>\n",
       "    <tr>\n",
       "      <th>737</th>\n",
       "      <td>192</td>\n",
       "      <td>192.0</td>\n",
       "      <td>0.000000e+00</td>\n",
       "    </tr>\n",
       "    <tr>\n",
       "      <th>740</th>\n",
       "      <td>225</td>\n",
       "      <td>225.0</td>\n",
       "      <td>0.000000e+00</td>\n",
       "    </tr>\n",
       "    <tr>\n",
       "      <th>660</th>\n",
       "      <td>224</td>\n",
       "      <td>224.0</td>\n",
       "      <td>-5.684342e-14</td>\n",
       "    </tr>\n",
       "    <tr>\n",
       "      <th>411</th>\n",
       "      <td>245</td>\n",
       "      <td>245.0</td>\n",
       "      <td>-2.842171e-14</td>\n",
       "    </tr>\n",
       "    <tr>\n",
       "      <th>...</th>\n",
       "      <td>...</td>\n",
       "      <td>...</td>\n",
       "      <td>...</td>\n",
       "    </tr>\n",
       "    <tr>\n",
       "      <th>408</th>\n",
       "      <td>165</td>\n",
       "      <td>165.0</td>\n",
       "      <td>5.684342e-14</td>\n",
       "    </tr>\n",
       "    <tr>\n",
       "      <th>332</th>\n",
       "      <td>171</td>\n",
       "      <td>171.0</td>\n",
       "      <td>5.684342e-14</td>\n",
       "    </tr>\n",
       "    <tr>\n",
       "      <th>208</th>\n",
       "      <td>231</td>\n",
       "      <td>231.0</td>\n",
       "      <td>-5.684342e-14</td>\n",
       "    </tr>\n",
       "    <tr>\n",
       "      <th>613</th>\n",
       "      <td>216</td>\n",
       "      <td>216.0</td>\n",
       "      <td>-2.842171e-14</td>\n",
       "    </tr>\n",
       "    <tr>\n",
       "      <th>78</th>\n",
       "      <td>207</td>\n",
       "      <td>207.0</td>\n",
       "      <td>2.842171e-14</td>\n",
       "    </tr>\n",
       "  </tbody>\n",
       "</table>\n",
       "<p>200 rows × 3 columns</p>\n",
       "</div>"
      ],
      "text/plain": [
       "     Actual value  predicted_value    Difference\n",
       "521           261            261.0 -5.684342e-14\n",
       "737           192            192.0  0.000000e+00\n",
       "740           225            225.0  0.000000e+00\n",
       "660           224            224.0 -5.684342e-14\n",
       "411           245            245.0 -2.842171e-14\n",
       "..            ...              ...           ...\n",
       "408           165            165.0  5.684342e-14\n",
       "332           171            171.0  5.684342e-14\n",
       "208           231            231.0 -5.684342e-14\n",
       "613           216            216.0 -2.842171e-14\n",
       "78            207            207.0  2.842171e-14\n",
       "\n",
       "[200 rows x 3 columns]"
      ]
     },
     "execution_count": 79,
     "metadata": {},
     "output_type": "execute_result"
    }
   ],
   "source": [
    "pred_diff = pd.DataFrame({'Actual value': y_test, 'predicted_value':y_pred,'Difference':y_test-y_pred})\n",
    "pred_diff"
   ]
  },
  {
   "cell_type": "code",
   "execution_count": 80,
   "id": "af26117b",
   "metadata": {},
   "outputs": [],
   "source": [
    "model = LinearRegression()"
   ]
  },
  {
   "cell_type": "code",
   "execution_count": 81,
   "id": "36741853",
   "metadata": {},
   "outputs": [
    {
     "name": "stdout",
     "output_type": "stream",
     "text": [
      "Cross-val R² scores: [1. 1. 1. 1. 1.]\n",
      "Mean CV Score: 1.0\n"
     ]
    }
   ],
   "source": [
    "from sklearn.model_selection import cross_val_score\n",
    "import numpy as np\n",
    "\n",
    "cv_scores = cross_val_score(model, X_train, y_train, cv=5, scoring='r2')\n",
    "print(\"Cross-val R² scores:\", cv_scores)\n",
    "print(\"Mean CV Score:\", np.mean(cv_scores))\n"
   ]
  },
  {
   "cell_type": "code",
   "execution_count": null,
   "id": "d560eca8",
   "metadata": {},
   "outputs": [],
   "source": []
  },
  {
   "cell_type": "code",
   "execution_count": null,
   "id": "29ef5d66",
   "metadata": {},
   "outputs": [],
   "source": []
  },
  {
   "cell_type": "code",
   "execution_count": null,
   "id": "85986800",
   "metadata": {},
   "outputs": [],
   "source": []
  },
  {
   "cell_type": "code",
   "execution_count": null,
   "id": "a0e349d0",
   "metadata": {},
   "outputs": [],
   "source": []
  }
 ],
 "metadata": {
  "kernelspec": {
   "display_name": "Python 3",
   "language": "python",
   "name": "python3"
  },
  "language_info": {
   "codemirror_mode": {
    "name": "ipython",
    "version": 3
   },
   "file_extension": ".py",
   "mimetype": "text/x-python",
   "name": "python",
   "nbconvert_exporter": "python",
   "pygments_lexer": "ipython3",
   "version": "3.10.0"
  }
 },
 "nbformat": 4,
 "nbformat_minor": 5
}
